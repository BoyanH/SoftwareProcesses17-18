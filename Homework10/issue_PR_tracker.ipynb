{
 "cells": [
  {
   "cell_type": "code",
   "execution_count": null,
   "metadata": {
    "collapsed": true
   },
   "outputs": [],
   "source": [
    "import pandas as pd\n",
    "import matplotlib.pyplot as plt\n",
    "from github import Github, Label\n",
    "from pprint import pprint"
   ]
  },
  {
   "cell_type": "code",
   "execution_count": null,
   "metadata": {},
   "outputs": [],
   "source": [
    "# Load DataFrame if you don't want to scrape the everything again\n",
    "df = pd.read_csv(\"issue_data.csv\")\n",
    "df.tail(5)"
   ]
  },
  {
   "cell_type": "code",
   "execution_count": null,
   "metadata": {
    "collapsed": true
   },
   "outputs": [],
   "source": [
    "# ==========================================\n",
    "# DONT FORGET TO INSERT CREDENTIALS\n",
    "# ==========================================\n",
    "g = Github(\"\", \"\")\n",
    "repo = g.get_repo(\"CleverRaven/Cataclysm-DDA\")\n",
    "#open_issues = repo.get_issues(state='open')\n",
    "#closed_issues = repo.get_issues(state='closed')\n",
    "issues = repo.get_issues(state='all')"
   ]
  },
  {
   "cell_type": "code",
   "execution_count": null,
   "metadata": {
    "collapsed": true
   },
   "outputs": [],
   "source": [
    "data = []\n",
    "comment_data = []"
   ]
  },
  {
   "cell_type": "code",
   "execution_count": null,
   "metadata": {
    "collapsed": true
   },
   "outputs": [],
   "source": [
    "def check_labels(issue, label_string):\n",
    "    for label in issue.labels:\n",
    "        if label.name == label_string:\n",
    "            bug_label = label\n",
    "            return True\n",
    "    return False"
   ]
  },
  {
   "cell_type": "code",
   "execution_count": null,
   "metadata": {},
   "outputs": [],
   "source": [
    "# use a counter to track progress\n",
    "counter = 0\n",
    "\n",
    "# Pull Requests also count as Issues, so expected duration should be \n",
    "# around 15000\n",
    "for issue in issues:\n",
    "    # take issues only with [BUG] label\n",
    "    if check_labels(issue, \"Bug\"):\n",
    "        for label in issue.labels:\n",
    "            data.append([issue.id, label.name, issue.comments])\n",
    "            \n",
    "    # Take all issues, labels and comments\n",
    "    for label in issue.labels:\n",
    "        comment_data.append([issue.id, label.name, issue.comments])\n",
    "        \n",
    "    counter += 1\n",
    "    if counter % 50 == 0:\n",
    "        print(\"Done pass %d\" % counter)"
   ]
  },
  {
   "cell_type": "code",
   "execution_count": null,
   "metadata": {},
   "outputs": [],
   "source": [
    "df = pd.DataFrame(data)\n",
    "df.columns=[\"id\", \"label\", \"comments\"]\n",
    "df.tail(5)"
   ]
  },
  {
   "cell_type": "code",
   "execution_count": null,
   "metadata": {
    "collapsed": true
   },
   "outputs": [],
   "source": [
    "df.groupby(['label']).count()\n",
    "df.groupby(['label']).sum()\n",
    "\n",
    "agg = pd.DataFrame(df.groupby(['label']).count())\n",
    "agg.comments = df.groupby(['label']).sum()['comments']\n",
    "agg.colums = [\"label\", \"issues\", \"comments\"]\n",
    "agg = agg.drop(['Bug', 'Confirmed', 'Confirmation Needed', \n",
    "                'Easy-fix', 'Duplicate', 'Performance',\n",
    "                'Question', 'Windows', 'OSX',\n",
    "                'Mechanics Change', 'Suggestion (Discuss)',\n",
    "                'Enhancement', 'Translation', 'Long-term', 'Code',\n",
    "                'Crash / Freeze', 'Other', 'Balance',\n",
    "                'Priority', 'Mods'])\n"
   ]
  },
  {
   "cell_type": "code",
   "execution_count": null,
   "metadata": {
    "collapsed": true
   },
   "outputs": [],
   "source": [
    "# Only if loading from CSV\n",
    "agg = agg.drop([\"Unnamed: 0\"], axis=1)"
   ]
  },
  {
   "cell_type": "code",
   "execution_count": 126,
   "metadata": {},
   "outputs": [
    {
     "data": {
      "text/html": [
       "<div>\n",
       "<style>\n",
       "    .dataframe thead tr:only-child th {\n",
       "        text-align: right;\n",
       "    }\n",
       "\n",
       "    .dataframe thead th {\n",
       "        text-align: left;\n",
       "    }\n",
       "\n",
       "    .dataframe tbody tr th {\n",
       "        vertical-align: top;\n",
       "    }\n",
       "</style>\n",
       "<table border=\"1\" class=\"dataframe\">\n",
       "  <thead>\n",
       "    <tr style=\"text-align: right;\">\n",
       "      <th></th>\n",
       "      <th>id</th>\n",
       "      <th>comments</th>\n",
       "    </tr>\n",
       "    <tr>\n",
       "      <th>label</th>\n",
       "      <th></th>\n",
       "      <th></th>\n",
       "    </tr>\n",
       "  </thead>\n",
       "  <tbody>\n",
       "    <tr>\n",
       "      <th>Information / Interface</th>\n",
       "      <td>364</td>\n",
       "      <td>1215</td>\n",
       "    </tr>\n",
       "    <tr>\n",
       "      <th>NPC</th>\n",
       "      <td>141</td>\n",
       "      <td>374</td>\n",
       "    </tr>\n",
       "    <tr>\n",
       "      <th>Vehicle</th>\n",
       "      <td>98</td>\n",
       "      <td>441</td>\n",
       "    </tr>\n",
       "    <tr>\n",
       "      <th>Mapgen</th>\n",
       "      <td>52</td>\n",
       "      <td>271</td>\n",
       "    </tr>\n",
       "    <tr>\n",
       "      <th>Crafting / Construction</th>\n",
       "      <td>47</td>\n",
       "      <td>184</td>\n",
       "    </tr>\n",
       "    <tr>\n",
       "      <th>Mission</th>\n",
       "      <td>35</td>\n",
       "      <td>124</td>\n",
       "    </tr>\n",
       "    <tr>\n",
       "      <th>JSON</th>\n",
       "      <td>33</td>\n",
       "      <td>98</td>\n",
       "    </tr>\n",
       "    <tr>\n",
       "      <th>Gunmod / Toolmod</th>\n",
       "      <td>18</td>\n",
       "      <td>57</td>\n",
       "    </tr>\n",
       "    <tr>\n",
       "      <th>Magazine</th>\n",
       "      <td>17</td>\n",
       "      <td>66</td>\n",
       "    </tr>\n",
       "    <tr>\n",
       "      <th>Inventory / AIM</th>\n",
       "      <td>16</td>\n",
       "      <td>36</td>\n",
       "    </tr>\n",
       "  </tbody>\n",
       "</table>\n",
       "</div>"
      ],
      "text/plain": [
       "                          id  comments\n",
       "label                                 \n",
       "Information / Interface  364      1215\n",
       "NPC                      141       374\n",
       "Vehicle                   98       441\n",
       "Mapgen                    52       271\n",
       "Crafting / Construction   47       184\n",
       "Mission                   35       124\n",
       "JSON                      33        98\n",
       "Gunmod / Toolmod          18        57\n",
       "Magazine                  17        66\n",
       "Inventory / AIM           16        36"
      ]
     },
     "execution_count": 126,
     "metadata": {},
     "output_type": "execute_result"
    }
   ],
   "source": [
    "agg.sort_values('id', ascending=False).head(10)"
   ]
  },
  {
   "cell_type": "code",
   "execution_count": 127,
   "metadata": {},
   "outputs": [
    {
     "data": {
      "image/png": "[encoded data removed]",
      "text/plain": [
       "<matplotlib.figure.Figure at 0x7f1115660b00>"
      ]
     },
     "metadata": {},
     "output_type": "display_data"
    }
   ],
   "source": [
    "# Plot most active categories\n",
    "to_plot = agg.sort_values('id', ascending=False).head(10)\n",
    "\n",
    "plt.barh([i for i in range(len(to_plot.index))],\n",
    "        to_plot['id'])\n",
    "\n",
    "plt.yticks([i for i in range(len(to_plot.index))], \n",
    "           to_plot.index)\n",
    "plt.title(\"Most active topics\")\n",
    "plt.show()"
   ]
  },
  {
   "cell_type": "code",
   "execution_count": 128,
   "metadata": {},
   "outputs": [
    {
     "data": {
      "text/html": [
       "<div>\n",
       "<style>\n",
       "    .dataframe thead tr:only-child th {\n",
       "        text-align: right;\n",
       "    }\n",
       "\n",
       "    .dataframe thead th {\n",
       "        text-align: left;\n",
       "    }\n",
       "\n",
       "    .dataframe tbody tr th {\n",
       "        vertical-align: top;\n",
       "    }\n",
       "</style>\n",
       "<table border=\"1\" class=\"dataframe\">\n",
       "  <thead>\n",
       "    <tr style=\"text-align: right;\">\n",
       "      <th></th>\n",
       "      <th>id</th>\n",
       "      <th>comments</th>\n",
       "    </tr>\n",
       "    <tr>\n",
       "      <th>label</th>\n",
       "      <th></th>\n",
       "      <th></th>\n",
       "    </tr>\n",
       "  </thead>\n",
       "  <tbody>\n",
       "    <tr>\n",
       "      <th>Information / Interface</th>\n",
       "      <td>1.000000</td>\n",
       "      <td>1.000000</td>\n",
       "    </tr>\n",
       "    <tr>\n",
       "      <th>NPC</th>\n",
       "      <td>0.385675</td>\n",
       "      <td>0.306678</td>\n",
       "    </tr>\n",
       "    <tr>\n",
       "      <th>Vehicle</th>\n",
       "      <td>0.267218</td>\n",
       "      <td>0.361913</td>\n",
       "    </tr>\n",
       "    <tr>\n",
       "      <th>Mapgen</th>\n",
       "      <td>0.140496</td>\n",
       "      <td>0.221764</td>\n",
       "    </tr>\n",
       "    <tr>\n",
       "      <th>Crafting / Construction</th>\n",
       "      <td>0.126722</td>\n",
       "      <td>0.150041</td>\n",
       "    </tr>\n",
       "  </tbody>\n",
       "</table>\n",
       "</div>"
      ],
      "text/plain": [
       "                               id  comments\n",
       "label                                      \n",
       "Information / Interface  1.000000  1.000000\n",
       "NPC                      0.385675  0.306678\n",
       "Vehicle                  0.267218  0.361913\n",
       "Mapgen                   0.140496  0.221764\n",
       "Crafting / Construction  0.126722  0.150041"
      ]
     },
     "execution_count": 128,
     "metadata": {},
     "output_type": "execute_result"
    }
   ],
   "source": [
    "# normalize, not sure if we need it...\n",
    "from sklearn import preprocessing\n",
    "min_max_scaler = preprocessing.MinMaxScaler()\n",
    "np_scaled = min_max_scaler.fit_transform(agg)\n",
    "df_normalized = pd.DataFrame(np_scaled)\n",
    "df_normalized.index = agg.index\n",
    "df_normalized.columns = agg.columns\n",
    "df_normalized.sort_values('id', ascending=False).head(5)"
   ]
  },
  {
   "cell_type": "code",
   "execution_count": 129,
   "metadata": {
    "collapsed": true
   },
   "outputs": [],
   "source": [
    "# Save to csv\n",
    "df.to_csv(\"issue_data.csv\")"
   ]
  },
  {
   "cell_type": "code",
   "execution_count": 130,
   "metadata": {
    "collapsed": true
   },
   "outputs": [],
   "source": [
    "# Linear Regression to compare ID to COMMENT and calculate the error.\n",
    "# negative error, means that the module is badly understood\n",
    "from sklearn.linear_model import LinearRegression\n",
    "regr = LinearRegression()\n",
    "regr.fit(agg[\"id\"].values.reshape(-1,1), \n",
    "         agg['comments'].values.reshape(-1,1))\n",
    "\n",
    "pred = regr.predict(agg[\"id\"].values.reshape(-1,1))\n",
    "error = agg['comments'].values.reshape(-1,1) - pred"
   ]
  },
  {
   "cell_type": "code",
   "execution_count": 131,
   "metadata": {},
   "outputs": [
    {
     "data": {
      "text/html": [
       "<div>\n",
       "<style>\n",
       "    .dataframe thead tr:only-child th {\n",
       "        text-align: right;\n",
       "    }\n",
       "\n",
       "    .dataframe thead th {\n",
       "        text-align: left;\n",
       "    }\n",
       "\n",
       "    .dataframe tbody tr th {\n",
       "        vertical-align: top;\n",
       "    }\n",
       "</style>\n",
       "<table border=\"1\" class=\"dataframe\">\n",
       "  <thead>\n",
       "    <tr style=\"text-align: right;\">\n",
       "      <th></th>\n",
       "      <th>id</th>\n",
       "      <th>comments</th>\n",
       "      <th>understanding</th>\n",
       "    </tr>\n",
       "    <tr>\n",
       "      <th>label</th>\n",
       "      <th></th>\n",
       "      <th></th>\n",
       "      <th></th>\n",
       "    </tr>\n",
       "  </thead>\n",
       "  <tbody>\n",
       "    <tr>\n",
       "      <th>Vehicle</th>\n",
       "      <td>98</td>\n",
       "      <td>441</td>\n",
       "      <td>106.135555</td>\n",
       "    </tr>\n",
       "    <tr>\n",
       "      <th>Mapgen</th>\n",
       "      <td>52</td>\n",
       "      <td>271</td>\n",
       "      <td>88.237204</td>\n",
       "    </tr>\n",
       "    <tr>\n",
       "      <th>Tiles</th>\n",
       "      <td>9</td>\n",
       "      <td>65</td>\n",
       "      <td>24.419180</td>\n",
       "    </tr>\n",
       "    <tr>\n",
       "      <th>Crafting / Construction</th>\n",
       "      <td>47</td>\n",
       "      <td>184</td>\n",
       "      <td>17.769992</td>\n",
       "    </tr>\n",
       "    <tr>\n",
       "      <th>Battery</th>\n",
       "      <td>11</td>\n",
       "      <td>56</td>\n",
       "      <td>8.806065</td>\n",
       "    </tr>\n",
       "  </tbody>\n",
       "</table>\n",
       "</div>"
      ],
      "text/plain": [
       "                         id  comments  understanding\n",
       "label                                               \n",
       "Vehicle                  98       441     106.135555\n",
       "Mapgen                   52       271      88.237204\n",
       "Tiles                     9        65      24.419180\n",
       "Crafting / Construction  47       184      17.769992\n",
       "Battery                  11        56       8.806065"
      ]
     },
     "execution_count": 131,
     "metadata": {},
     "output_type": "execute_result"
    }
   ],
   "source": [
    "df_new = agg.copy()\n",
    "df_new[\"understanding\"] = error\n",
    "df_new.sort_values(\"understanding\", ascending=False).head(5)"
   ]
  },
  {
   "cell_type": "code",
   "execution_count": 132,
   "metadata": {},
   "outputs": [
    {
     "data": {
      "image/png": "[encoded data removed]",
      "text/plain": [
       "<matplotlib.figure.Figure at 0x7f1115514080>"
      ]
     },
     "metadata": {},
     "output_type": "display_data"
    }
   ],
   "source": [
    "\n",
    "# Plot most well understood topics\n",
    "to_plot = df_new.sort_values(\"understanding\", ascending=False).head(5)\n",
    "\n",
    "plt.barh([i for i in range(len(to_plot.index))],\n",
    "        to_plot['id'])\n",
    "\n",
    "plt.yticks([i for i in range(len(to_plot.index))], \n",
    "           to_plot.index)\n",
    "plt.title(\"Top 5 well understood topics\")\n",
    "plt.show()"
   ]
  },
  {
   "cell_type": "code",
   "execution_count": 133,
   "metadata": {},
   "outputs": [
    {
     "data": {
      "text/html": [
       "<div>\n",
       "<style>\n",
       "    .dataframe thead tr:only-child th {\n",
       "        text-align: right;\n",
       "    }\n",
       "\n",
       "    .dataframe thead th {\n",
       "        text-align: left;\n",
       "    }\n",
       "\n",
       "    .dataframe tbody tr th {\n",
       "        vertical-align: top;\n",
       "    }\n",
       "</style>\n",
       "<table border=\"1\" class=\"dataframe\">\n",
       "  <thead>\n",
       "    <tr style=\"text-align: right;\">\n",
       "      <th></th>\n",
       "      <th>id</th>\n",
       "      <th>comments</th>\n",
       "      <th>understanding</th>\n",
       "    </tr>\n",
       "    <tr>\n",
       "      <th>label</th>\n",
       "      <th></th>\n",
       "      <th></th>\n",
       "      <th></th>\n",
       "    </tr>\n",
       "  </thead>\n",
       "  <tbody>\n",
       "    <tr>\n",
       "      <th>NPC</th>\n",
       "      <td>141</td>\n",
       "      <td>374</td>\n",
       "      <td>-103.046421</td>\n",
       "    </tr>\n",
       "    <tr>\n",
       "      <th>Inventory / AIM</th>\n",
       "      <td>16</td>\n",
       "      <td>36</td>\n",
       "      <td>-27.726723</td>\n",
       "    </tr>\n",
       "    <tr>\n",
       "      <th>JSON</th>\n",
       "      <td>33</td>\n",
       "      <td>98</td>\n",
       "      <td>-21.938202</td>\n",
       "    </tr>\n",
       "    <tr>\n",
       "      <th>Mutations</th>\n",
       "      <td>6</td>\n",
       "      <td>14</td>\n",
       "      <td>-16.661148</td>\n",
       "    </tr>\n",
       "    <tr>\n",
       "      <th>Tests</th>\n",
       "      <td>2</td>\n",
       "      <td>2</td>\n",
       "      <td>-15.434917</td>\n",
       "    </tr>\n",
       "  </tbody>\n",
       "</table>\n",
       "</div>"
      ],
      "text/plain": [
       "                  id  comments  understanding\n",
       "label                                        \n",
       "NPC              141       374    -103.046421\n",
       "Inventory / AIM   16        36     -27.726723\n",
       "JSON              33        98     -21.938202\n",
       "Mutations          6        14     -16.661148\n",
       "Tests              2         2     -15.434917"
      ]
     },
     "execution_count": 133,
     "metadata": {},
     "output_type": "execute_result"
    }
   ],
   "source": [
    "df_new.sort_values(\"understanding\").head(5)"
   ]
  },
  {
   "cell_type": "code",
   "execution_count": 134,
   "metadata": {},
   "outputs": [
    {
     "data": {
      "image/png": "[encoded data removed]",
      "text/plain": [
       "<matplotlib.figure.Figure at 0x7f111535d4e0>"
      ]
     },
     "metadata": {},
     "output_type": "display_data"
    }
   ],
   "source": [
    "# Plot least well understood topics\n",
    "to_plot = df_new.sort_values(\"understanding\").head(5)\n",
    "\n",
    "plt.barh([i for i in range(len(to_plot.index))],\n",
    "        to_plot['id'], color='r')\n",
    "\n",
    "plt.yticks([i for i in range(len(to_plot.index))], \n",
    "           to_plot.index)\n",
    "plt.title(\"Top 5 least understood topics\")\n",
    "plt.show()"
   ]
  },
  {
   "cell_type": "code",
   "execution_count": 135,
   "metadata": {},
   "outputs": [
    {
     "data": {
      "image/png": "[encoded data removed]",
      "text/plain": [
       "<matplotlib.figure.Figure at 0x7f11152f46d8>"
      ]
     },
     "metadata": {},
     "output_type": "display_data"
    }
   ],
   "source": [
    "to_plot = agg.drop(['Information / Interface']).sort_values(\"id\", ascending=False)\n",
    "plt.scatter(to_plot.id, \n",
    "            to_plot.comments,\n",
    "            edgecolor='k')\n",
    "\n",
    "plt.plot(to_plot.id, \n",
    "         regr.predict(to_plot.id.values.reshape(-1,1)), \n",
    "         '-', c='c')\n",
    "\n",
    "for i in range(6):\n",
    "    plt.annotate(to_plot.index[i], (to_plot.id[i], to_plot.comments[i]))\n",
    "\n",
    "plt.xlabel(\"Issue count\")\n",
    "plt.ylabel(\"Comments\")\n",
    "plt.show()"
   ]
  },
  {
   "cell_type": "code",
   "execution_count": 144,
   "metadata": {},
   "outputs": [
    {
     "data": {
      "image/png": "[encoded data removed]",
      "text/plain": [
       "<matplotlib.figure.Figure at 0x7f11151abb38>"
      ]
     },
     "metadata": {},
     "output_type": "display_data"
    }
   ],
   "source": [
    "import matplotlib.patches as mpatches\n",
    "\n",
    "# Plot most active categories and their understainding\n",
    "to_plot = df_new.sort_values('id', ascending=False).head(10)\n",
    "\n",
    "colors = ['r' if int(i/abs(i)) < 0 else 'b' for i in df_new[\"understanding\"]]\n",
    "\n",
    "\n",
    "plt.barh([i for i in range(len(to_plot.index))],\n",
    "        to_plot['id'], color=colors)\n",
    "\n",
    "plt.yticks([i for i in range(len(to_plot.index))], \n",
    "           to_plot.index)\n",
    "plt.title(\"Most active topics and their understanding\")\n",
    "plt.xlabel(\"Issue count\")\n",
    "\n",
    "red_patch = mpatches.Patch(color='red', label='Badly understood topics')\n",
    "blue_patch = mpatches.Patch(color='blue', label='Well understood topics')\n",
    "plt.legend(handles=[red_patch, blue_patch])\n",
    "\n",
    "plt.show()"
   ]
  },
  {
   "cell_type": "code",
   "execution_count": null,
   "metadata": {
    "collapsed": true
   },
   "outputs": [],
   "source": []
  }
 ],
 "metadata": {
  "kernelspec": {
   "display_name": "Python 3",
   "language": "python",
   "name": "python3"
  },
  "language_info": {
   "codemirror_mode": {
    "name": "ipython",
    "version": 3
   },
   "file_extension": ".py",
   "mimetype": "text/x-python",
   "name": "python",
   "nbconvert_exporter": "python",
   "pygments_lexer": "ipython3",
   "version": "3.6.1"
  }
 },
 "nbformat": 4,
 "nbformat_minor": 2
}
